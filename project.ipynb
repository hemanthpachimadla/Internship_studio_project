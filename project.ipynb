{
  "nbformat": 4,
  "nbformat_minor": 0,
  "metadata": {
    "colab": {
      "name": "project.ipynb",
      "provenance": [],
      "collapsed_sections": []
    },
    "kernelspec": {
      "name": "python3",
      "display_name": "Python 3"
    }
  },
  "cells": [
    {
      "cell_type": "markdown",
      "metadata": {
        "id": "sPnooVTCdRHe",
        "colab_type": "text"
      },
      "source": [
        "#            Project Title : Exploratory Data Analysis of Car Features"
      ]
    },
    {
      "cell_type": "markdown",
      "metadata": {
        "id": "uA2psp-ud12v",
        "colab_type": "text"
      },
      "source": [
        "The data comes from the Kaggle dataset \"Car Features and MSRP\". It describes almost 12,000 car models, sold in the USA between 1990 and 2017, with the market price (new or used) and some features. Applying some descriptive statistics and then, you move on to the exploration stage where in you plot various graphs and mine the hidden insights. In this project, we perform Exploratory data analysis on how the different features of a car and its price are related.\n"
      ]
    },
    {
      "cell_type": "markdown",
      "metadata": {
        "id": "CH0k4ZIWo3fo",
        "colab_type": "text"
      },
      "source": [
        "---\n",
        "### 1.0. Import the dataset and the necessary libraries, check datatype, statistical summary, shape, null values etc."
      ]
    },
    {
      "cell_type": "markdown",
      "metadata": {
        "id": "dVblbhWapStY",
        "colab_type": "text"
      },
      "source": [
        "Importing dataset and neccesary libraries which are pandas , numpy , seaborn and matplotlib libraries . We can complete 80 % of the project with these libraries."
      ]
    },
    {
      "cell_type": "code",
      "metadata": {
        "id": "auPKJixKKOsN",
        "colab_type": "code",
        "colab": {
          "base_uri": "https://localhost:8080/",
          "height": 293
        },
        "outputId": "4fd2bb0c-0966-45f8-dbbf-5ac70430b105"
      },
      "source": [
        "#Importing libraries\n",
        "import numpy as np\n",
        "import pandas as pd\n",
        "import seaborn as sns\n",
        "import matplotlib.pyplot as plt\n",
        "#Loading the dataset\n",
        "dataset = pd.read_csv('data.csv')\n",
        "dataset.head(3)"
      ],
      "execution_count": 115,
      "outputs": [
        {
          "output_type": "execute_result",
          "data": {
            "text/html": [
              "<div>\n",
              "<style scoped>\n",
              "    .dataframe tbody tr th:only-of-type {\n",
              "        vertical-align: middle;\n",
              "    }\n",
              "\n",
              "    .dataframe tbody tr th {\n",
              "        vertical-align: top;\n",
              "    }\n",
              "\n",
              "    .dataframe thead th {\n",
              "        text-align: right;\n",
              "    }\n",
              "</style>\n",
              "<table border=\"1\" class=\"dataframe\">\n",
              "  <thead>\n",
              "    <tr style=\"text-align: right;\">\n",
              "      <th></th>\n",
              "      <th>Make</th>\n",
              "      <th>Model</th>\n",
              "      <th>Year</th>\n",
              "      <th>Engine Fuel Type</th>\n",
              "      <th>Engine HP</th>\n",
              "      <th>Engine Cylinders</th>\n",
              "      <th>Transmission Type</th>\n",
              "      <th>Driven_Wheels</th>\n",
              "      <th>Number of Doors</th>\n",
              "      <th>Market Category</th>\n",
              "      <th>Vehicle Size</th>\n",
              "      <th>Vehicle Style</th>\n",
              "      <th>highway MPG</th>\n",
              "      <th>city mpg</th>\n",
              "      <th>Popularity</th>\n",
              "      <th>MSRP</th>\n",
              "    </tr>\n",
              "  </thead>\n",
              "  <tbody>\n",
              "    <tr>\n",
              "      <th>0</th>\n",
              "      <td>BMW</td>\n",
              "      <td>1 Series M</td>\n",
              "      <td>2011</td>\n",
              "      <td>premium unleaded (required)</td>\n",
              "      <td>335.0</td>\n",
              "      <td>6.0</td>\n",
              "      <td>MANUAL</td>\n",
              "      <td>rear wheel drive</td>\n",
              "      <td>2.0</td>\n",
              "      <td>Factory Tuner,Luxury,High-Performance</td>\n",
              "      <td>Compact</td>\n",
              "      <td>Coupe</td>\n",
              "      <td>26</td>\n",
              "      <td>19</td>\n",
              "      <td>3916</td>\n",
              "      <td>46135</td>\n",
              "    </tr>\n",
              "    <tr>\n",
              "      <th>1</th>\n",
              "      <td>BMW</td>\n",
              "      <td>1 Series</td>\n",
              "      <td>2011</td>\n",
              "      <td>premium unleaded (required)</td>\n",
              "      <td>300.0</td>\n",
              "      <td>6.0</td>\n",
              "      <td>MANUAL</td>\n",
              "      <td>rear wheel drive</td>\n",
              "      <td>2.0</td>\n",
              "      <td>Luxury,Performance</td>\n",
              "      <td>Compact</td>\n",
              "      <td>Convertible</td>\n",
              "      <td>28</td>\n",
              "      <td>19</td>\n",
              "      <td>3916</td>\n",
              "      <td>40650</td>\n",
              "    </tr>\n",
              "    <tr>\n",
              "      <th>2</th>\n",
              "      <td>BMW</td>\n",
              "      <td>1 Series</td>\n",
              "      <td>2011</td>\n",
              "      <td>premium unleaded (required)</td>\n",
              "      <td>300.0</td>\n",
              "      <td>6.0</td>\n",
              "      <td>MANUAL</td>\n",
              "      <td>rear wheel drive</td>\n",
              "      <td>2.0</td>\n",
              "      <td>Luxury,High-Performance</td>\n",
              "      <td>Compact</td>\n",
              "      <td>Coupe</td>\n",
              "      <td>28</td>\n",
              "      <td>20</td>\n",
              "      <td>3916</td>\n",
              "      <td>36350</td>\n",
              "    </tr>\n",
              "  </tbody>\n",
              "</table>\n",
              "</div>"
            ],
            "text/plain": [
              "  Make       Model  Year  ... city mpg  Popularity   MSRP\n",
              "0  BMW  1 Series M  2011  ...       19        3916  46135\n",
              "1  BMW    1 Series  2011  ...       19        3916  40650\n",
              "2  BMW    1 Series  2011  ...       20        3916  36350\n",
              "\n",
              "[3 rows x 16 columns]"
            ]
          },
          "metadata": {
            "tags": []
          },
          "execution_count": 115
        }
      ]
    },
    {
      "cell_type": "markdown",
      "metadata": {
        "id": "UKgJhJwLrQv5",
        "colab_type": "text"
      },
      "source": [
        "Checking datatype , statistical summary , shape and null values using info( ) , describe( ) and shape ."
      ]
    },
    {
      "cell_type": "code",
      "metadata": {
        "id": "rCAvMrRANAeH",
        "colab_type": "code",
        "colab": {
          "base_uri": "https://localhost:8080/",
          "height": 400
        },
        "outputId": "03f08e65-5ac1-49d7-fd99-6c47c19283e6"
      },
      "source": [
        "dataset.info()"
      ],
      "execution_count": 116,
      "outputs": [
        {
          "output_type": "stream",
          "text": [
            "<class 'pandas.core.frame.DataFrame'>\n",
            "RangeIndex: 11914 entries, 0 to 11913\n",
            "Data columns (total 16 columns):\n",
            " #   Column             Non-Null Count  Dtype  \n",
            "---  ------             --------------  -----  \n",
            " 0   Make               11914 non-null  object \n",
            " 1   Model              11914 non-null  object \n",
            " 2   Year               11914 non-null  int64  \n",
            " 3   Engine Fuel Type   11911 non-null  object \n",
            " 4   Engine HP          11845 non-null  float64\n",
            " 5   Engine Cylinders   11884 non-null  float64\n",
            " 6   Transmission Type  11914 non-null  object \n",
            " 7   Driven_Wheels      11914 non-null  object \n",
            " 8   Number of Doors    11908 non-null  float64\n",
            " 9   Market Category    8172 non-null   object \n",
            " 10  Vehicle Size       11914 non-null  object \n",
            " 11  Vehicle Style      11914 non-null  object \n",
            " 12  highway MPG        11914 non-null  int64  \n",
            " 13  city mpg           11914 non-null  int64  \n",
            " 14  Popularity         11914 non-null  int64  \n",
            " 15  MSRP               11914 non-null  int64  \n",
            "dtypes: float64(3), int64(5), object(8)\n",
            "memory usage: 1.5+ MB\n"
          ],
          "name": "stdout"
        }
      ]
    },
    {
      "cell_type": "code",
      "metadata": {
        "id": "nUqRghMdD00O",
        "colab_type": "code",
        "colab": {
          "base_uri": "https://localhost:8080/",
          "height": 291
        },
        "outputId": "3951df4d-55c7-4ce1-bf38-1d0d3c4b0206"
      },
      "source": [
        "dataset.corr()"
      ],
      "execution_count": 117,
      "outputs": [
        {
          "output_type": "execute_result",
          "data": {
            "text/html": [
              "<div>\n",
              "<style scoped>\n",
              "    .dataframe tbody tr th:only-of-type {\n",
              "        vertical-align: middle;\n",
              "    }\n",
              "\n",
              "    .dataframe tbody tr th {\n",
              "        vertical-align: top;\n",
              "    }\n",
              "\n",
              "    .dataframe thead th {\n",
              "        text-align: right;\n",
              "    }\n",
              "</style>\n",
              "<table border=\"1\" class=\"dataframe\">\n",
              "  <thead>\n",
              "    <tr style=\"text-align: right;\">\n",
              "      <th></th>\n",
              "      <th>Year</th>\n",
              "      <th>Engine HP</th>\n",
              "      <th>Engine Cylinders</th>\n",
              "      <th>Number of Doors</th>\n",
              "      <th>highway MPG</th>\n",
              "      <th>city mpg</th>\n",
              "      <th>Popularity</th>\n",
              "      <th>MSRP</th>\n",
              "    </tr>\n",
              "  </thead>\n",
              "  <tbody>\n",
              "    <tr>\n",
              "      <th>Year</th>\n",
              "      <td>1.000000</td>\n",
              "      <td>0.351794</td>\n",
              "      <td>-0.041479</td>\n",
              "      <td>0.263787</td>\n",
              "      <td>0.258240</td>\n",
              "      <td>0.198171</td>\n",
              "      <td>0.073049</td>\n",
              "      <td>0.227590</td>\n",
              "    </tr>\n",
              "    <tr>\n",
              "      <th>Engine HP</th>\n",
              "      <td>0.351794</td>\n",
              "      <td>1.000000</td>\n",
              "      <td>0.779988</td>\n",
              "      <td>-0.102713</td>\n",
              "      <td>-0.406563</td>\n",
              "      <td>-0.439371</td>\n",
              "      <td>0.037501</td>\n",
              "      <td>0.662008</td>\n",
              "    </tr>\n",
              "    <tr>\n",
              "      <th>Engine Cylinders</th>\n",
              "      <td>-0.041479</td>\n",
              "      <td>0.779988</td>\n",
              "      <td>1.000000</td>\n",
              "      <td>-0.140088</td>\n",
              "      <td>-0.621606</td>\n",
              "      <td>-0.600776</td>\n",
              "      <td>0.041145</td>\n",
              "      <td>0.531312</td>\n",
              "    </tr>\n",
              "    <tr>\n",
              "      <th>Number of Doors</th>\n",
              "      <td>0.263787</td>\n",
              "      <td>-0.102713</td>\n",
              "      <td>-0.140088</td>\n",
              "      <td>1.000000</td>\n",
              "      <td>0.118570</td>\n",
              "      <td>0.120881</td>\n",
              "      <td>-0.048272</td>\n",
              "      <td>-0.126635</td>\n",
              "    </tr>\n",
              "    <tr>\n",
              "      <th>highway MPG</th>\n",
              "      <td>0.258240</td>\n",
              "      <td>-0.406563</td>\n",
              "      <td>-0.621606</td>\n",
              "      <td>0.118570</td>\n",
              "      <td>1.000000</td>\n",
              "      <td>0.886829</td>\n",
              "      <td>-0.020991</td>\n",
              "      <td>-0.160043</td>\n",
              "    </tr>\n",
              "    <tr>\n",
              "      <th>city mpg</th>\n",
              "      <td>0.198171</td>\n",
              "      <td>-0.439371</td>\n",
              "      <td>-0.600776</td>\n",
              "      <td>0.120881</td>\n",
              "      <td>0.886829</td>\n",
              "      <td>1.000000</td>\n",
              "      <td>-0.003217</td>\n",
              "      <td>-0.157676</td>\n",
              "    </tr>\n",
              "    <tr>\n",
              "      <th>Popularity</th>\n",
              "      <td>0.073049</td>\n",
              "      <td>0.037501</td>\n",
              "      <td>0.041145</td>\n",
              "      <td>-0.048272</td>\n",
              "      <td>-0.020991</td>\n",
              "      <td>-0.003217</td>\n",
              "      <td>1.000000</td>\n",
              "      <td>-0.048476</td>\n",
              "    </tr>\n",
              "    <tr>\n",
              "      <th>MSRP</th>\n",
              "      <td>0.227590</td>\n",
              "      <td>0.662008</td>\n",
              "      <td>0.531312</td>\n",
              "      <td>-0.126635</td>\n",
              "      <td>-0.160043</td>\n",
              "      <td>-0.157676</td>\n",
              "      <td>-0.048476</td>\n",
              "      <td>1.000000</td>\n",
              "    </tr>\n",
              "  </tbody>\n",
              "</table>\n",
              "</div>"
            ],
            "text/plain": [
              "                      Year  Engine HP  ...  Popularity      MSRP\n",
              "Year              1.000000   0.351794  ...    0.073049  0.227590\n",
              "Engine HP         0.351794   1.000000  ...    0.037501  0.662008\n",
              "Engine Cylinders -0.041479   0.779988  ...    0.041145  0.531312\n",
              "Number of Doors   0.263787  -0.102713  ...   -0.048272 -0.126635\n",
              "highway MPG       0.258240  -0.406563  ...   -0.020991 -0.160043\n",
              "city mpg          0.198171  -0.439371  ...   -0.003217 -0.157676\n",
              "Popularity        0.073049   0.037501  ...    1.000000 -0.048476\n",
              "MSRP              0.227590   0.662008  ...   -0.048476  1.000000\n",
              "\n",
              "[8 rows x 8 columns]"
            ]
          },
          "metadata": {
            "tags": []
          },
          "execution_count": 117
        }
      ]
    },
    {
      "cell_type": "code",
      "metadata": {
        "id": "tnPV61IlNZ8O",
        "colab_type": "code",
        "colab": {
          "base_uri": "https://localhost:8080/",
          "height": 291
        },
        "outputId": "78972c68-2df3-49ec-a3e4-0b652a15fa51"
      },
      "source": [
        "dataset.describe()"
      ],
      "execution_count": 118,
      "outputs": [
        {
          "output_type": "execute_result",
          "data": {
            "text/html": [
              "<div>\n",
              "<style scoped>\n",
              "    .dataframe tbody tr th:only-of-type {\n",
              "        vertical-align: middle;\n",
              "    }\n",
              "\n",
              "    .dataframe tbody tr th {\n",
              "        vertical-align: top;\n",
              "    }\n",
              "\n",
              "    .dataframe thead th {\n",
              "        text-align: right;\n",
              "    }\n",
              "</style>\n",
              "<table border=\"1\" class=\"dataframe\">\n",
              "  <thead>\n",
              "    <tr style=\"text-align: right;\">\n",
              "      <th></th>\n",
              "      <th>Year</th>\n",
              "      <th>Engine HP</th>\n",
              "      <th>Engine Cylinders</th>\n",
              "      <th>Number of Doors</th>\n",
              "      <th>highway MPG</th>\n",
              "      <th>city mpg</th>\n",
              "      <th>Popularity</th>\n",
              "      <th>MSRP</th>\n",
              "    </tr>\n",
              "  </thead>\n",
              "  <tbody>\n",
              "    <tr>\n",
              "      <th>count</th>\n",
              "      <td>11914.000000</td>\n",
              "      <td>11845.00000</td>\n",
              "      <td>11884.000000</td>\n",
              "      <td>11908.000000</td>\n",
              "      <td>11914.000000</td>\n",
              "      <td>11914.000000</td>\n",
              "      <td>11914.000000</td>\n",
              "      <td>1.191400e+04</td>\n",
              "    </tr>\n",
              "    <tr>\n",
              "      <th>mean</th>\n",
              "      <td>2010.384338</td>\n",
              "      <td>249.38607</td>\n",
              "      <td>5.628829</td>\n",
              "      <td>3.436093</td>\n",
              "      <td>26.637485</td>\n",
              "      <td>19.733255</td>\n",
              "      <td>1554.911197</td>\n",
              "      <td>4.059474e+04</td>\n",
              "    </tr>\n",
              "    <tr>\n",
              "      <th>std</th>\n",
              "      <td>7.579740</td>\n",
              "      <td>109.19187</td>\n",
              "      <td>1.780559</td>\n",
              "      <td>0.881315</td>\n",
              "      <td>8.863001</td>\n",
              "      <td>8.987798</td>\n",
              "      <td>1441.855347</td>\n",
              "      <td>6.010910e+04</td>\n",
              "    </tr>\n",
              "    <tr>\n",
              "      <th>min</th>\n",
              "      <td>1990.000000</td>\n",
              "      <td>55.00000</td>\n",
              "      <td>0.000000</td>\n",
              "      <td>2.000000</td>\n",
              "      <td>12.000000</td>\n",
              "      <td>7.000000</td>\n",
              "      <td>2.000000</td>\n",
              "      <td>2.000000e+03</td>\n",
              "    </tr>\n",
              "    <tr>\n",
              "      <th>25%</th>\n",
              "      <td>2007.000000</td>\n",
              "      <td>170.00000</td>\n",
              "      <td>4.000000</td>\n",
              "      <td>2.000000</td>\n",
              "      <td>22.000000</td>\n",
              "      <td>16.000000</td>\n",
              "      <td>549.000000</td>\n",
              "      <td>2.100000e+04</td>\n",
              "    </tr>\n",
              "    <tr>\n",
              "      <th>50%</th>\n",
              "      <td>2015.000000</td>\n",
              "      <td>227.00000</td>\n",
              "      <td>6.000000</td>\n",
              "      <td>4.000000</td>\n",
              "      <td>26.000000</td>\n",
              "      <td>18.000000</td>\n",
              "      <td>1385.000000</td>\n",
              "      <td>2.999500e+04</td>\n",
              "    </tr>\n",
              "    <tr>\n",
              "      <th>75%</th>\n",
              "      <td>2016.000000</td>\n",
              "      <td>300.00000</td>\n",
              "      <td>6.000000</td>\n",
              "      <td>4.000000</td>\n",
              "      <td>30.000000</td>\n",
              "      <td>22.000000</td>\n",
              "      <td>2009.000000</td>\n",
              "      <td>4.223125e+04</td>\n",
              "    </tr>\n",
              "    <tr>\n",
              "      <th>max</th>\n",
              "      <td>2017.000000</td>\n",
              "      <td>1001.00000</td>\n",
              "      <td>16.000000</td>\n",
              "      <td>4.000000</td>\n",
              "      <td>354.000000</td>\n",
              "      <td>137.000000</td>\n",
              "      <td>5657.000000</td>\n",
              "      <td>2.065902e+06</td>\n",
              "    </tr>\n",
              "  </tbody>\n",
              "</table>\n",
              "</div>"
            ],
            "text/plain": [
              "               Year    Engine HP  ...    Popularity          MSRP\n",
              "count  11914.000000  11845.00000  ...  11914.000000  1.191400e+04\n",
              "mean    2010.384338    249.38607  ...   1554.911197  4.059474e+04\n",
              "std        7.579740    109.19187  ...   1441.855347  6.010910e+04\n",
              "min     1990.000000     55.00000  ...      2.000000  2.000000e+03\n",
              "25%     2007.000000    170.00000  ...    549.000000  2.100000e+04\n",
              "50%     2015.000000    227.00000  ...   1385.000000  2.999500e+04\n",
              "75%     2016.000000    300.00000  ...   2009.000000  4.223125e+04\n",
              "max     2017.000000   1001.00000  ...   5657.000000  2.065902e+06\n",
              "\n",
              "[8 rows x 8 columns]"
            ]
          },
          "metadata": {
            "tags": []
          },
          "execution_count": 118
        }
      ]
    },
    {
      "cell_type": "code",
      "metadata": {
        "id": "4Z0Dw68_rHko",
        "colab_type": "code",
        "colab": {
          "base_uri": "https://localhost:8080/",
          "height": 33
        },
        "outputId": "8a4025b8-dd7f-41e4-e725-18760478166b"
      },
      "source": [
        "dataset.shape"
      ],
      "execution_count": 119,
      "outputs": [
        {
          "output_type": "execute_result",
          "data": {
            "text/plain": [
              "(11914, 16)"
            ]
          },
          "metadata": {
            "tags": []
          },
          "execution_count": 119
        }
      ]
    },
    {
      "cell_type": "markdown",
      "metadata": {
        "id": "9VKq5Ighrkl2",
        "colab_type": "text"
      },
      "source": [
        "---\n",
        "\n",
        "\n",
        "### 2.0 : Dropping less relevant columns from the project."
      ]
    },
    {
      "cell_type": "markdown",
      "metadata": {
        "id": "ndne59ZIBJjI",
        "colab_type": "text"
      },
      "source": [
        "I dropped these columns because they have very less standard deviation than other columns from which we can understand that these columns are less relevant to the data.\n",
        "\n",
        "From the above data , you can see the 'Number of Doors' column , there you can see the min and max values of the column.\n",
        " i.e; min=2 and max=4 , which means in these column there is only two values and they are 2 and 4 . These values doesn't make any relevance and changes to the target variable.\n",
        "\n",
        "'Market Category' column doesn't have any importance in the car industry because we cannot say this car only for these people and another reason I dropped this column because , there is many null values than any other column in the given data.\n",
        "\n",
        "\n",
        "\n"
      ]
    },
    {
      "cell_type": "code",
      "metadata": {
        "id": "6GgGxUWzOfBl",
        "colab_type": "code",
        "colab": {
          "base_uri": "https://localhost:8080/",
          "height": 33
        },
        "outputId": "8b4f912d-a1c2-4619-9655-dc60ef7bdc36"
      },
      "source": [
        "df=dataset.drop(['Number of Doors','Market Category'],axis=1)\n",
        "df.shape"
      ],
      "execution_count": 120,
      "outputs": [
        {
          "output_type": "execute_result",
          "data": {
            "text/plain": [
              "(11914, 14)"
            ]
          },
          "metadata": {
            "tags": []
          },
          "execution_count": 120
        }
      ]
    },
    {
      "cell_type": "code",
      "metadata": {
        "id": "rcf3UEmRQrwR",
        "colab_type": "code",
        "colab": {
          "base_uri": "https://localhost:8080/",
          "height": 300
        },
        "outputId": "cf0320d0-5c86-4c49-dfa6-06b60ffa6dab"
      },
      "source": [
        "df.head()"
      ],
      "execution_count": 121,
      "outputs": [
        {
          "output_type": "execute_result",
          "data": {
            "text/html": [
              "<div>\n",
              "<style scoped>\n",
              "    .dataframe tbody tr th:only-of-type {\n",
              "        vertical-align: middle;\n",
              "    }\n",
              "\n",
              "    .dataframe tbody tr th {\n",
              "        vertical-align: top;\n",
              "    }\n",
              "\n",
              "    .dataframe thead th {\n",
              "        text-align: right;\n",
              "    }\n",
              "</style>\n",
              "<table border=\"1\" class=\"dataframe\">\n",
              "  <thead>\n",
              "    <tr style=\"text-align: right;\">\n",
              "      <th></th>\n",
              "      <th>Make</th>\n",
              "      <th>Model</th>\n",
              "      <th>Year</th>\n",
              "      <th>Engine Fuel Type</th>\n",
              "      <th>Engine HP</th>\n",
              "      <th>Engine Cylinders</th>\n",
              "      <th>Transmission Type</th>\n",
              "      <th>Driven_Wheels</th>\n",
              "      <th>Vehicle Size</th>\n",
              "      <th>Vehicle Style</th>\n",
              "      <th>highway MPG</th>\n",
              "      <th>city mpg</th>\n",
              "      <th>Popularity</th>\n",
              "      <th>MSRP</th>\n",
              "    </tr>\n",
              "  </thead>\n",
              "  <tbody>\n",
              "    <tr>\n",
              "      <th>0</th>\n",
              "      <td>BMW</td>\n",
              "      <td>1 Series M</td>\n",
              "      <td>2011</td>\n",
              "      <td>premium unleaded (required)</td>\n",
              "      <td>335.0</td>\n",
              "      <td>6.0</td>\n",
              "      <td>MANUAL</td>\n",
              "      <td>rear wheel drive</td>\n",
              "      <td>Compact</td>\n",
              "      <td>Coupe</td>\n",
              "      <td>26</td>\n",
              "      <td>19</td>\n",
              "      <td>3916</td>\n",
              "      <td>46135</td>\n",
              "    </tr>\n",
              "    <tr>\n",
              "      <th>1</th>\n",
              "      <td>BMW</td>\n",
              "      <td>1 Series</td>\n",
              "      <td>2011</td>\n",
              "      <td>premium unleaded (required)</td>\n",
              "      <td>300.0</td>\n",
              "      <td>6.0</td>\n",
              "      <td>MANUAL</td>\n",
              "      <td>rear wheel drive</td>\n",
              "      <td>Compact</td>\n",
              "      <td>Convertible</td>\n",
              "      <td>28</td>\n",
              "      <td>19</td>\n",
              "      <td>3916</td>\n",
              "      <td>40650</td>\n",
              "    </tr>\n",
              "    <tr>\n",
              "      <th>2</th>\n",
              "      <td>BMW</td>\n",
              "      <td>1 Series</td>\n",
              "      <td>2011</td>\n",
              "      <td>premium unleaded (required)</td>\n",
              "      <td>300.0</td>\n",
              "      <td>6.0</td>\n",
              "      <td>MANUAL</td>\n",
              "      <td>rear wheel drive</td>\n",
              "      <td>Compact</td>\n",
              "      <td>Coupe</td>\n",
              "      <td>28</td>\n",
              "      <td>20</td>\n",
              "      <td>3916</td>\n",
              "      <td>36350</td>\n",
              "    </tr>\n",
              "    <tr>\n",
              "      <th>3</th>\n",
              "      <td>BMW</td>\n",
              "      <td>1 Series</td>\n",
              "      <td>2011</td>\n",
              "      <td>premium unleaded (required)</td>\n",
              "      <td>230.0</td>\n",
              "      <td>6.0</td>\n",
              "      <td>MANUAL</td>\n",
              "      <td>rear wheel drive</td>\n",
              "      <td>Compact</td>\n",
              "      <td>Coupe</td>\n",
              "      <td>28</td>\n",
              "      <td>18</td>\n",
              "      <td>3916</td>\n",
              "      <td>29450</td>\n",
              "    </tr>\n",
              "    <tr>\n",
              "      <th>4</th>\n",
              "      <td>BMW</td>\n",
              "      <td>1 Series</td>\n",
              "      <td>2011</td>\n",
              "      <td>premium unleaded (required)</td>\n",
              "      <td>230.0</td>\n",
              "      <td>6.0</td>\n",
              "      <td>MANUAL</td>\n",
              "      <td>rear wheel drive</td>\n",
              "      <td>Compact</td>\n",
              "      <td>Convertible</td>\n",
              "      <td>28</td>\n",
              "      <td>18</td>\n",
              "      <td>3916</td>\n",
              "      <td>34500</td>\n",
              "    </tr>\n",
              "  </tbody>\n",
              "</table>\n",
              "</div>"
            ],
            "text/plain": [
              "  Make       Model  Year  ... city mpg  Popularity   MSRP\n",
              "0  BMW  1 Series M  2011  ...       19        3916  46135\n",
              "1  BMW    1 Series  2011  ...       19        3916  40650\n",
              "2  BMW    1 Series  2011  ...       20        3916  36350\n",
              "3  BMW    1 Series  2011  ...       18        3916  29450\n",
              "4  BMW    1 Series  2011  ...       18        3916  34500\n",
              "\n",
              "[5 rows x 14 columns]"
            ]
          },
          "metadata": {
            "tags": []
          },
          "execution_count": 121
        }
      ]
    },
    {
      "cell_type": "markdown",
      "metadata": {
        "id": "3jP_4EOkKYTm",
        "colab_type": "text"
      },
      "source": [
        "---\n",
        "\n",
        "\n",
        "### 3.0 : Rename the columns\n",
        "\n",
        "\n",
        "*   \"Engine HP\" to \"HP\"\n",
        "*   \"Engine Cylinders\" to \"Cylinders\"\n",
        "*   \"Transmission Type\" to \"Transmission\"\n",
        "*   \"Engine Cylinders\" to \"Cylinders\"\n",
        "*   \"Driven_Wheels\" to \"Drive Mode\"\n",
        "*   \"highway MPG\" to \"MPG-H\"\n",
        "*   \"city mpg\" to \"MPG-C\"\n",
        "*   \"MSRP\" to \"Price\""
      ]
    },
    {
      "cell_type": "code",
      "metadata": {
        "id": "xO1CS8uclyCp",
        "colab_type": "code",
        "colab": {
          "base_uri": "https://localhost:8080/",
          "height": 200
        },
        "outputId": "aa146e87-a63e-43a9-da0b-84ea9e01aeeb"
      },
      "source": [
        "df_new = df.rename(columns={'Engine HP': 'HP',\"Engine Cylinders\": \"Cylinders\", \"Transmission Type\": \"Transmission\", \"Driven_Wheels\": \"Drive Mode\",\"highway MPG\": \"MPG-H\", \"city mpg\": \"MPG-C\", \"MSRP\": \"Price\"})\n",
        "df_new.head(5)"
      ],
      "execution_count": 122,
      "outputs": [
        {
          "output_type": "execute_result",
          "data": {
            "text/html": [
              "<div>\n",
              "<style scoped>\n",
              "    .dataframe tbody tr th:only-of-type {\n",
              "        vertical-align: middle;\n",
              "    }\n",
              "\n",
              "    .dataframe tbody tr th {\n",
              "        vertical-align: top;\n",
              "    }\n",
              "\n",
              "    .dataframe thead th {\n",
              "        text-align: right;\n",
              "    }\n",
              "</style>\n",
              "<table border=\"1\" class=\"dataframe\">\n",
              "  <thead>\n",
              "    <tr style=\"text-align: right;\">\n",
              "      <th></th>\n",
              "      <th>Make</th>\n",
              "      <th>Model</th>\n",
              "      <th>Year</th>\n",
              "      <th>Engine Fuel Type</th>\n",
              "      <th>HP</th>\n",
              "      <th>Cylinders</th>\n",
              "      <th>Transmission</th>\n",
              "      <th>Drive Mode</th>\n",
              "      <th>Vehicle Size</th>\n",
              "      <th>Vehicle Style</th>\n",
              "      <th>MPG-H</th>\n",
              "      <th>MPG-C</th>\n",
              "      <th>Popularity</th>\n",
              "      <th>Price</th>\n",
              "    </tr>\n",
              "  </thead>\n",
              "  <tbody>\n",
              "    <tr>\n",
              "      <th>0</th>\n",
              "      <td>BMW</td>\n",
              "      <td>1 Series M</td>\n",
              "      <td>2011</td>\n",
              "      <td>premium unleaded (required)</td>\n",
              "      <td>335.0</td>\n",
              "      <td>6.0</td>\n",
              "      <td>MANUAL</td>\n",
              "      <td>rear wheel drive</td>\n",
              "      <td>Compact</td>\n",
              "      <td>Coupe</td>\n",
              "      <td>26</td>\n",
              "      <td>19</td>\n",
              "      <td>3916</td>\n",
              "      <td>46135</td>\n",
              "    </tr>\n",
              "    <tr>\n",
              "      <th>1</th>\n",
              "      <td>BMW</td>\n",
              "      <td>1 Series</td>\n",
              "      <td>2011</td>\n",
              "      <td>premium unleaded (required)</td>\n",
              "      <td>300.0</td>\n",
              "      <td>6.0</td>\n",
              "      <td>MANUAL</td>\n",
              "      <td>rear wheel drive</td>\n",
              "      <td>Compact</td>\n",
              "      <td>Convertible</td>\n",
              "      <td>28</td>\n",
              "      <td>19</td>\n",
              "      <td>3916</td>\n",
              "      <td>40650</td>\n",
              "    </tr>\n",
              "    <tr>\n",
              "      <th>2</th>\n",
              "      <td>BMW</td>\n",
              "      <td>1 Series</td>\n",
              "      <td>2011</td>\n",
              "      <td>premium unleaded (required)</td>\n",
              "      <td>300.0</td>\n",
              "      <td>6.0</td>\n",
              "      <td>MANUAL</td>\n",
              "      <td>rear wheel drive</td>\n",
              "      <td>Compact</td>\n",
              "      <td>Coupe</td>\n",
              "      <td>28</td>\n",
              "      <td>20</td>\n",
              "      <td>3916</td>\n",
              "      <td>36350</td>\n",
              "    </tr>\n",
              "    <tr>\n",
              "      <th>3</th>\n",
              "      <td>BMW</td>\n",
              "      <td>1 Series</td>\n",
              "      <td>2011</td>\n",
              "      <td>premium unleaded (required)</td>\n",
              "      <td>230.0</td>\n",
              "      <td>6.0</td>\n",
              "      <td>MANUAL</td>\n",
              "      <td>rear wheel drive</td>\n",
              "      <td>Compact</td>\n",
              "      <td>Coupe</td>\n",
              "      <td>28</td>\n",
              "      <td>18</td>\n",
              "      <td>3916</td>\n",
              "      <td>29450</td>\n",
              "    </tr>\n",
              "    <tr>\n",
              "      <th>4</th>\n",
              "      <td>BMW</td>\n",
              "      <td>1 Series</td>\n",
              "      <td>2011</td>\n",
              "      <td>premium unleaded (required)</td>\n",
              "      <td>230.0</td>\n",
              "      <td>6.0</td>\n",
              "      <td>MANUAL</td>\n",
              "      <td>rear wheel drive</td>\n",
              "      <td>Compact</td>\n",
              "      <td>Convertible</td>\n",
              "      <td>28</td>\n",
              "      <td>18</td>\n",
              "      <td>3916</td>\n",
              "      <td>34500</td>\n",
              "    </tr>\n",
              "  </tbody>\n",
              "</table>\n",
              "</div>"
            ],
            "text/plain": [
              "  Make       Model  Year  ... MPG-C  Popularity  Price\n",
              "0  BMW  1 Series M  2011  ...    19        3916  46135\n",
              "1  BMW    1 Series  2011  ...    19        3916  40650\n",
              "2  BMW    1 Series  2011  ...    20        3916  36350\n",
              "3  BMW    1 Series  2011  ...    18        3916  29450\n",
              "4  BMW    1 Series  2011  ...    18        3916  34500\n",
              "\n",
              "[5 rows x 14 columns]"
            ]
          },
          "metadata": {
            "tags": []
          },
          "execution_count": 122
        }
      ]
    },
    {
      "cell_type": "markdown",
      "metadata": {
        "id": "LVA-jOpgMPrX",
        "colab_type": "text"
      },
      "source": [
        "---\n",
        "### 4.0 : Check for any duplicates in the data, check for null values and missing data and remove them."
      ]
    },
    {
      "cell_type": "markdown",
      "metadata": {
        "id": "AuuQRHsBogIx",
        "colab_type": "text"
      },
      "source": [
        "From the below code , you can see that we're checking for duplicate rows in the data and we can drop those duplicate data with drop_duplicates()."
      ]
    },
    {
      "cell_type": "code",
      "metadata": {
        "id": "SKKqjfiDRSxd",
        "colab_type": "code",
        "colab": {
          "base_uri": "https://localhost:8080/",
          "height": 33
        },
        "outputId": "dc52a648-2fab-4cd7-e90b-d48859b8d1cc"
      },
      "source": [
        "duplicate_rows_df=df_new[df_new.duplicated()]\n",
        "print(\"No.of duplicate rows\" ,duplicate_rows_df.shape)"
      ],
      "execution_count": 123,
      "outputs": [
        {
          "output_type": "stream",
          "text": [
            "No.of duplicate rows (721, 14)\n"
          ],
          "name": "stdout"
        }
      ]
    },
    {
      "cell_type": "code",
      "metadata": {
        "id": "-x0nvLM6RS17",
        "colab_type": "code",
        "colab": {
          "base_uri": "https://localhost:8080/",
          "height": 200
        },
        "outputId": "0b28b7ab-f59e-493e-9d82-2f91e586e674"
      },
      "source": [
        "df_new=df_new.drop_duplicates()\n",
        "df_new.head(5)"
      ],
      "execution_count": 124,
      "outputs": [
        {
          "output_type": "execute_result",
          "data": {
            "text/html": [
              "<div>\n",
              "<style scoped>\n",
              "    .dataframe tbody tr th:only-of-type {\n",
              "        vertical-align: middle;\n",
              "    }\n",
              "\n",
              "    .dataframe tbody tr th {\n",
              "        vertical-align: top;\n",
              "    }\n",
              "\n",
              "    .dataframe thead th {\n",
              "        text-align: right;\n",
              "    }\n",
              "</style>\n",
              "<table border=\"1\" class=\"dataframe\">\n",
              "  <thead>\n",
              "    <tr style=\"text-align: right;\">\n",
              "      <th></th>\n",
              "      <th>Make</th>\n",
              "      <th>Model</th>\n",
              "      <th>Year</th>\n",
              "      <th>Engine Fuel Type</th>\n",
              "      <th>HP</th>\n",
              "      <th>Cylinders</th>\n",
              "      <th>Transmission</th>\n",
              "      <th>Drive Mode</th>\n",
              "      <th>Vehicle Size</th>\n",
              "      <th>Vehicle Style</th>\n",
              "      <th>MPG-H</th>\n",
              "      <th>MPG-C</th>\n",
              "      <th>Popularity</th>\n",
              "      <th>Price</th>\n",
              "    </tr>\n",
              "  </thead>\n",
              "  <tbody>\n",
              "    <tr>\n",
              "      <th>0</th>\n",
              "      <td>BMW</td>\n",
              "      <td>1 Series M</td>\n",
              "      <td>2011</td>\n",
              "      <td>premium unleaded (required)</td>\n",
              "      <td>335.0</td>\n",
              "      <td>6.0</td>\n",
              "      <td>MANUAL</td>\n",
              "      <td>rear wheel drive</td>\n",
              "      <td>Compact</td>\n",
              "      <td>Coupe</td>\n",
              "      <td>26</td>\n",
              "      <td>19</td>\n",
              "      <td>3916</td>\n",
              "      <td>46135</td>\n",
              "    </tr>\n",
              "    <tr>\n",
              "      <th>1</th>\n",
              "      <td>BMW</td>\n",
              "      <td>1 Series</td>\n",
              "      <td>2011</td>\n",
              "      <td>premium unleaded (required)</td>\n",
              "      <td>300.0</td>\n",
              "      <td>6.0</td>\n",
              "      <td>MANUAL</td>\n",
              "      <td>rear wheel drive</td>\n",
              "      <td>Compact</td>\n",
              "      <td>Convertible</td>\n",
              "      <td>28</td>\n",
              "      <td>19</td>\n",
              "      <td>3916</td>\n",
              "      <td>40650</td>\n",
              "    </tr>\n",
              "    <tr>\n",
              "      <th>2</th>\n",
              "      <td>BMW</td>\n",
              "      <td>1 Series</td>\n",
              "      <td>2011</td>\n",
              "      <td>premium unleaded (required)</td>\n",
              "      <td>300.0</td>\n",
              "      <td>6.0</td>\n",
              "      <td>MANUAL</td>\n",
              "      <td>rear wheel drive</td>\n",
              "      <td>Compact</td>\n",
              "      <td>Coupe</td>\n",
              "      <td>28</td>\n",
              "      <td>20</td>\n",
              "      <td>3916</td>\n",
              "      <td>36350</td>\n",
              "    </tr>\n",
              "    <tr>\n",
              "      <th>3</th>\n",
              "      <td>BMW</td>\n",
              "      <td>1 Series</td>\n",
              "      <td>2011</td>\n",
              "      <td>premium unleaded (required)</td>\n",
              "      <td>230.0</td>\n",
              "      <td>6.0</td>\n",
              "      <td>MANUAL</td>\n",
              "      <td>rear wheel drive</td>\n",
              "      <td>Compact</td>\n",
              "      <td>Coupe</td>\n",
              "      <td>28</td>\n",
              "      <td>18</td>\n",
              "      <td>3916</td>\n",
              "      <td>29450</td>\n",
              "    </tr>\n",
              "    <tr>\n",
              "      <th>4</th>\n",
              "      <td>BMW</td>\n",
              "      <td>1 Series</td>\n",
              "      <td>2011</td>\n",
              "      <td>premium unleaded (required)</td>\n",
              "      <td>230.0</td>\n",
              "      <td>6.0</td>\n",
              "      <td>MANUAL</td>\n",
              "      <td>rear wheel drive</td>\n",
              "      <td>Compact</td>\n",
              "      <td>Convertible</td>\n",
              "      <td>28</td>\n",
              "      <td>18</td>\n",
              "      <td>3916</td>\n",
              "      <td>34500</td>\n",
              "    </tr>\n",
              "  </tbody>\n",
              "</table>\n",
              "</div>"
            ],
            "text/plain": [
              "  Make       Model  Year  ... MPG-C  Popularity  Price\n",
              "0  BMW  1 Series M  2011  ...    19        3916  46135\n",
              "1  BMW    1 Series  2011  ...    19        3916  40650\n",
              "2  BMW    1 Series  2011  ...    20        3916  36350\n",
              "3  BMW    1 Series  2011  ...    18        3916  29450\n",
              "4  BMW    1 Series  2011  ...    18        3916  34500\n",
              "\n",
              "[5 rows x 14 columns]"
            ]
          },
          "metadata": {
            "tags": []
          },
          "execution_count": 124
        }
      ]
    },
    {
      "cell_type": "code",
      "metadata": {
        "id": "qXx0we0PS-Q4",
        "colab_type": "code",
        "colab": {
          "base_uri": "https://localhost:8080/",
          "height": 33
        },
        "outputId": "e77112f7-136f-4cf1-ae2a-959bd6aeb8c0"
      },
      "source": [
        "df_new.shape"
      ],
      "execution_count": 125,
      "outputs": [
        {
          "output_type": "execute_result",
          "data": {
            "text/plain": [
              "(11193, 14)"
            ]
          },
          "metadata": {
            "tags": []
          },
          "execution_count": 125
        }
      ]
    },
    {
      "cell_type": "markdown",
      "metadata": {
        "id": "aT3z1k8jpEw5",
        "colab_type": "text"
      },
      "source": [
        "Here we're going to check for missing data or null values in the data and here we can see there are 69 HP missing values and 3 Engine Fuel Type missing values in the given data. "
      ]
    },
    {
      "cell_type": "code",
      "metadata": {
        "id": "XbUX-ATsTSgD",
        "colab_type": "code",
        "colab": {
          "base_uri": "https://localhost:8080/",
          "height": 267
        },
        "outputId": "8e71abf4-c637-45dd-f514-6cde75860e71"
      },
      "source": [
        "print(df_new.isnull().sum())"
      ],
      "execution_count": 126,
      "outputs": [
        {
          "output_type": "stream",
          "text": [
            "Make                 0\n",
            "Model                0\n",
            "Year                 0\n",
            "Engine Fuel Type     3\n",
            "HP                  69\n",
            "Cylinders           30\n",
            "Transmission         0\n",
            "Drive Mode           0\n",
            "Vehicle Size         0\n",
            "Vehicle Style        0\n",
            "MPG-H                0\n",
            "MPG-C                0\n",
            "Popularity           0\n",
            "Price                0\n",
            "dtype: int64\n"
          ],
          "name": "stdout"
        }
      ]
    },
    {
      "cell_type": "markdown",
      "metadata": {
        "id": "h_1JreZTplN5",
        "colab_type": "text"
      },
      "source": [
        "Now , we going to drop the null values using dropna() ."
      ]
    },
    {
      "cell_type": "code",
      "metadata": {
        "id": "8RIgxAQ8UkuF",
        "colab_type": "code",
        "colab": {
          "base_uri": "https://localhost:8080/",
          "height": 267
        },
        "outputId": "b9f46342-c20a-4f41-9155-b9bf86f4989e"
      },
      "source": [
        "df_new=df_new.dropna()\n",
        "df_new.count()"
      ],
      "execution_count": 127,
      "outputs": [
        {
          "output_type": "execute_result",
          "data": {
            "text/plain": [
              "Make                11092\n",
              "Model               11092\n",
              "Year                11092\n",
              "Engine Fuel Type    11092\n",
              "HP                  11092\n",
              "Cylinders           11092\n",
              "Transmission        11092\n",
              "Drive Mode          11092\n",
              "Vehicle Size        11092\n",
              "Vehicle Style       11092\n",
              "MPG-H               11092\n",
              "MPG-C               11092\n",
              "Popularity          11092\n",
              "Price               11092\n",
              "dtype: int64"
            ]
          },
          "metadata": {
            "tags": []
          },
          "execution_count": 127
        }
      ]
    },
    {
      "cell_type": "markdown",
      "metadata": {
        "id": "LxhnSrD_qKu8",
        "colab_type": "text"
      },
      "source": [
        "Here we going to find the total count of null values in each column to ensure there is no more missing data."
      ]
    },
    {
      "cell_type": "code",
      "metadata": {
        "id": "ZaTh65oCUxbs",
        "colab_type": "code",
        "colab": {
          "base_uri": "https://localhost:8080/",
          "height": 267
        },
        "outputId": "2ec960b0-1980-4d64-ff7d-1ea84997a42d"
      },
      "source": [
        "print(df_new.isnull().sum())"
      ],
      "execution_count": 128,
      "outputs": [
        {
          "output_type": "stream",
          "text": [
            "Make                0\n",
            "Model               0\n",
            "Year                0\n",
            "Engine Fuel Type    0\n",
            "HP                  0\n",
            "Cylinders           0\n",
            "Transmission        0\n",
            "Drive Mode          0\n",
            "Vehicle Size        0\n",
            "Vehicle Style       0\n",
            "MPG-H               0\n",
            "MPG-C               0\n",
            "Popularity          0\n",
            "Price               0\n",
            "dtype: int64\n"
          ],
          "name": "stdout"
        }
      ]
    },
    {
      "cell_type": "markdown",
      "metadata": {
        "id": "pSrr8yanqhQD",
        "colab_type": "text"
      },
      "source": [
        "---\n",
        "### 5.0 : Plot graphs of various columns to check for outliers and remove those data points from the dataset."
      ]
    },
    {
      "cell_type": "markdown",
      "metadata": {
        "id": "feUn-X6zq3gq",
        "colab_type": "text"
      },
      "source": [
        "We're using Boxplots because it's used to measure of how well distributed the data in a data set is. It divides the data set into three quartiles. Here we are going to find outliers in the data."
      ]
    },
    {
      "cell_type": "code",
      "metadata": {
        "id": "RLiZ2A9VVDzR",
        "colab_type": "code",
        "colab": {
          "base_uri": "https://localhost:8080/",
          "height": 296
        },
        "outputId": "1b24168a-dd71-4fa9-b3da-6f8d5bdac9f4"
      },
      "source": [
        "sns.boxplot(x=df_new['Price'])"
      ],
      "execution_count": 163,
      "outputs": [
        {
          "output_type": "execute_result",
          "data": {
            "text/plain": [
              "<matplotlib.axes._subplots.AxesSubplot at 0x7fd1ac031a90>"
            ]
          },
          "metadata": {
            "tags": []
          },
          "execution_count": 163
        },
        {
          "output_type": "display_data",
          "data": {
            "image/png": "[encoded data removed]",
            "text/plain": [
              "<Figure size 432x288 with 1 Axes>"
            ]
          },
          "metadata": {
            "tags": [],
            "needs_background": "light"
          }
        }
      ]
    },
    {
      "cell_type": "code",
      "metadata": {
        "id": "hsAEr87pVEM6",
        "colab_type": "code",
        "colab": {
          "base_uri": "https://localhost:8080/",
          "height": 296
        },
        "outputId": "d2fc2bac-37d5-44de-e0a1-311bd316c2a7"
      },
      "source": [
        "sns.boxplot(x=df_new['HP'])"
      ],
      "execution_count": 164,
      "outputs": [
        {
          "output_type": "execute_result",
          "data": {
            "text/plain": [
              "<matplotlib.axes._subplots.AxesSubplot at 0x7fd1abfed240>"
            ]
          },
          "metadata": {
            "tags": []
          },
          "execution_count": 164
        },
        {
          "output_type": "display_data",
          "data": {
            "image/png": "[encoded data removed]",
            "text/plain": [
              "<Figure size 432x288 with 1 Axes>"
            ]
          },
          "metadata": {
            "tags": [],
            "needs_background": "light"
          }
        }
      ]
    },
    {
      "cell_type": "code",
      "metadata": {
        "id": "TbWpy2BOWAnf",
        "colab_type": "code",
        "colab": {
          "base_uri": "https://localhost:8080/",
          "height": 296
        },
        "outputId": "34df0f1c-76cf-4897-93ef-b709e705c2e2"
      },
      "source": [
        "sns.boxplot(x=df_new['MPG-H'])"
      ],
      "execution_count": 165,
      "outputs": [
        {
          "output_type": "execute_result",
          "data": {
            "text/plain": [
              "<matplotlib.axes._subplots.AxesSubplot at 0x7fd1abe1ef28>"
            ]
          },
          "metadata": {
            "tags": []
          },
          "execution_count": 165
        },
        {
          "output_type": "display_data",
          "data": {
            "image/png": "[encoded data removed]",
            "text/plain": [
              "<Figure size 432x288 with 1 Axes>"
            ]
          },
          "metadata": {
            "tags": [],
            "needs_background": "light"
          }
        }
      ]
    },
    {
      "cell_type": "code",
      "metadata": {
        "id": "5bi5VPQRWIMx",
        "colab_type": "code",
        "colab": {
          "base_uri": "https://localhost:8080/",
          "height": 296
        },
        "outputId": "e09cf2be-7cb8-4eb1-8ac8-6cb54fe7eea8"
      },
      "source": [
        "sns.boxplot(x=df_new['MPG-C'])"
      ],
      "execution_count": 166,
      "outputs": [
        {
          "output_type": "execute_result",
          "data": {
            "text/plain": [
              "<matplotlib.axes._subplots.AxesSubplot at 0x7fd1abdf3438>"
            ]
          },
          "metadata": {
            "tags": []
          },
          "execution_count": 166
        },
        {
          "output_type": "display_data",
          "data": {
            "image/png": "[encoded data removed]",
            "text/plain": [
              "<Figure size 432x288 with 1 Axes>"
            ]
          },
          "metadata": {
            "tags": [],
            "needs_background": "light"
          }
        }
      ]
    },
    {
      "cell_type": "code",
      "metadata": {
        "id": "I28_Bh4hWYPn",
        "colab_type": "code",
        "colab": {
          "base_uri": "https://localhost:8080/",
          "height": 296
        },
        "outputId": "c1a92f9c-07b4-4d9c-d03a-dd8a33b3ead4"
      },
      "source": [
        "sns.boxplot(x=df_new['Popularity'])"
      ],
      "execution_count": 167,
      "outputs": [
        {
          "output_type": "execute_result",
          "data": {
            "text/plain": [
              "<matplotlib.axes._subplots.AxesSubplot at 0x7fd1abdcdf98>"
            ]
          },
          "metadata": {
            "tags": []
          },
          "execution_count": 167
        },
        {
          "output_type": "display_data",
          "data": {
            "image/png": "[encoded data removed]",
            "text/plain": [
              "<Figure size 432x288 with 1 Axes>"
            ]
          },
          "metadata": {
            "tags": [],
            "needs_background": "light"
          }
        }
      ]
    },
    {
      "cell_type": "markdown",
      "metadata": {
        "id": "Yn3hI5-DrYbT",
        "colab_type": "text"
      },
      "source": [
        "Now we're going to calculate the IQR values of each column above mentioned and going to print them."
      ]
    },
    {
      "cell_type": "code",
      "metadata": {
        "id": "2dGWoVgSWdKP",
        "colab_type": "code",
        "colab": {
          "base_uri": "https://localhost:8080/",
          "height": 150
        },
        "outputId": "57a29f5a-9cb0-48c5-8cb4-b698e7d3717d"
      },
      "source": [
        "Q1=df_new.quantile(0.25)\n",
        "Q2=df_new.quantile(0.50)\n",
        "Q3=df_new.quantile(0.75)\n",
        "IQR=Q3-Q1\n",
        "print(IQR)"
      ],
      "execution_count": 168,
      "outputs": [
        {
          "output_type": "stream",
          "text": [
            "Year              8.0\n",
            "HP              118.0\n",
            "Cylinders         2.0\n",
            "MPG-H             8.0\n",
            "MPG-C             6.0\n",
            "Popularity     1302.0\n",
            "Price         18052.5\n",
            "dtype: float64\n"
          ],
          "name": "stdout"
        }
      ]
    },
    {
      "cell_type": "markdown",
      "metadata": {
        "id": "kWQf60DproTr",
        "colab_type": "text"
      },
      "source": [
        "Here it comes the exciting thing ! ! !\n",
        "\n",
        "By using IQR and quartile values we are going to remove outliers from the data.\n",
        "\n",
        "Here we are with clean data with no null values, duplicate values and outliers in the data. \n",
        "\n"
      ]
    },
    {
      "cell_type": "code",
      "metadata": {
        "id": "VxooZFt6XFIm",
        "colab_type": "code",
        "colab": {
          "base_uri": "https://localhost:8080/",
          "height": 33
        },
        "outputId": "8c037760-6e79-4d1a-f5a9-67d25de5e79c"
      },
      "source": [
        "df_new=df_new[~((df_new<(Q1-1.5*IQR))|(df_new>(Q3+1.5*IQR))).any(axis=1)]\n",
        "df_new.shape"
      ],
      "execution_count": 169,
      "outputs": [
        {
          "output_type": "execute_result",
          "data": {
            "text/plain": [
              "(8017, 15)"
            ]
          },
          "metadata": {
            "tags": []
          },
          "execution_count": 169
        }
      ]
    },
    {
      "cell_type": "markdown",
      "metadata": {
        "id": "lk1ddf8Js5f7",
        "colab_type": "text"
      },
      "source": [
        "---\n",
        "\n",
        "\n",
        "### 6.0 : What car brands are the most represented in the dataset and find the average price among the top car brands."
      ]
    },
    {
      "cell_type": "markdown",
      "metadata": {
        "id": "MZplxf8XtXPv",
        "colab_type": "text"
      },
      "source": [
        "Here we going  to use matplotlib library to plot top 10 car brands according to there sales in the given project."
      ]
    },
    {
      "cell_type": "code",
      "metadata": {
        "id": "hbrzimTLYphP",
        "colab_type": "code",
        "colab": {
          "base_uri": "https://localhost:8080/",
          "height": 390
        },
        "outputId": "afb8b07b-8d7c-4678-fc5d-3a1c50d1de45"
      },
      "source": [
        "# Percentage of car per brand\n",
        "counts=df_new['Make'].value_counts()*100/sum(df_new['Make'].value_counts())\n",
        "\n",
        "#Top 10 car brands\n",
        "popular_labels=counts.index[:10]\n",
        "\n",
        "#Plot\n",
        "plt.figure(figsize=(13,6))\n",
        "plt.barh(popular_labels,width=counts[:10])\n",
        "plt.title('Top 10 car brands')\n",
        "plt.show()"
      ],
      "execution_count": 170,
      "outputs": [
        {
          "output_type": "display_data",
          "data": {
            "image/png": "[encoded data removed]",
            "text/plain": [
              "<Figure size 936x432 with 1 Axes>"
            ]
          },
          "metadata": {
            "tags": [],
            "needs_background": "light"
          }
        }
      ]
    },
    {
      "cell_type": "markdown",
      "metadata": {
        "id": "yRRsHDkEuqhp",
        "colab_type": "text"
      },
      "source": [
        "Now , we are going to create a table with Model ('Make') and average price .\n",
        "We can see there are only 9 models in the data and their mean or average price ."
      ]
    },
    {
      "cell_type": "code",
      "metadata": {
        "id": "8merYQKMbPvJ",
        "colab_type": "code",
        "colab": {
          "base_uri": "https://localhost:8080/",
          "height": 200
        },
        "outputId": "667e306a-eb1b-461a-f72a-14c77b0ca2e9"
      },
      "source": [
        "prices=df_new[['Make','Price']].loc[(df_new['Make']=='infiniti')|\n",
        "                                (df_new['Make']=='Suzuki')|\n",
        "                                (df_new['Make']=='Honda')|\n",
        "                                (df_new['Make']=='Mazda')|\n",
        "                                (df_new['Make']=='Dodge')|\n",
        "                                (df_new['Make']=='GMC')|\n",
        "                                (df_new['Make']=='Nissan')|\n",
        "                                (df_new['Make']=='Volkswagen')|\n",
        "                                (df_new['Make']=='Toyota')|\n",
        "                                (df_new['Make']=='Chevrolet')].groupby('Make').mean()\n",
        "print(prices)"
      ],
      "execution_count": 137,
      "outputs": [
        {
          "output_type": "stream",
          "text": [
            "                   Price\n",
            "Make                    \n",
            "Chevrolet   28188.626459\n",
            "Dodge       26076.722353\n",
            "GMC         33261.400853\n",
            "Honda       27381.364611\n",
            "Mazda       20495.820106\n",
            "Nissan      28352.543860\n",
            "Suzuki      18164.098214\n",
            "Toyota      29011.750397\n",
            "Volkswagen  29032.817476\n"
          ],
          "name": "stdout"
        }
      ]
    },
    {
      "cell_type": "markdown",
      "metadata": {
        "id": "he0SLllWwRvo",
        "colab_type": "text"
      },
      "source": [
        "---\n",
        "### 7.0 : Plot the correlation matrix and document your insights.\n"
      ]
    },
    {
      "cell_type": "markdown",
      "metadata": {
        "id": "-fCUOScmwfrt",
        "colab_type": "text"
      },
      "source": [
        "From the correlation matrix we can see there is **high correlation** between **HP and Cylinders** because more the Cylinders , the more Horsepower.\n",
        "\n",
        "There is **high negative correlation** between **Highway MPG**, City MPG and **Horsepower (HP)** because the more HP , less the Mileage. "
      ]
    },
    {
      "cell_type": "code",
      "metadata": {
        "id": "E-xDsURQvpe8",
        "colab_type": "code",
        "colab": {
          "base_uri": "https://localhost:8080/",
          "height": 395
        },
        "outputId": "35840d00-66d5-492c-c412-7220c0b8ded6"
      },
      "source": [
        "plt.figure(figsize=(10,6))\n",
        "corr=df_new.corr()\n",
        "sns.heatmap(corr , cmap=\"BrBG\",annot=True)"
      ],
      "execution_count": 138,
      "outputs": [
        {
          "output_type": "execute_result",
          "data": {
            "text/plain": [
              "<matplotlib.axes._subplots.AxesSubplot at 0x7fd1ac91fd68>"
            ]
          },
          "metadata": {
            "tags": []
          },
          "execution_count": 138
        },
        {
          "output_type": "display_data",
          "data": {
            "image/png": "[encoded data removed]",
            "text/plain": [
              "<Figure size 720x432 with 2 Axes>"
            ]
          },
          "metadata": {
            "tags": [],
            "needs_background": "light"
          }
        }
      ]
    },
    {
      "cell_type": "markdown",
      "metadata": {
        "id": "XfQtZICrtHQj",
        "colab_type": "text"
      },
      "source": [
        "---\n",
        "### 8.0 : Perform EDA and plot different graphs and document your findings"
      ]
    },
    {
      "cell_type": "markdown",
      "metadata": {
        "id": "Dj8Spi8DuLk2",
        "colab_type": "text"
      },
      "source": [
        "Here we use scatterplots to plot data points on a horizontal and a vertical axis in the attempt to show how much one variable is affected by another. Now , we create scatterplot between \"HP\" and \"Price\" which represent the relation between Horsepower and price. "
      ]
    },
    {
      "cell_type": "code",
      "metadata": {
        "id": "dL8KAFCmmkOT",
        "colab_type": "code",
        "colab": {
          "base_uri": "https://localhost:8080/",
          "height": 388
        },
        "outputId": "64ea14e7-dab4-4c3b-b50f-4c673069b739"
      },
      "source": [
        "# Scatterplot\n",
        "fig,ax=plt.subplots(figsize=(10,6))\n",
        "ax.scatter(df_new['HP'],df_new['Price'])\n",
        "ax.set_xlabel('HP')\n",
        "ax.set_ylabel('Price')\n",
        "plt.show()"
      ],
      "execution_count": 139,
      "outputs": [
        {
          "output_type": "display_data",
          "data": {
            "image/png": "[encoded data removed]",
            "text/plain": [
              "<Figure size 720x432 with 1 Axes>"
            ]
          },
          "metadata": {
            "tags": [],
            "needs_background": "light"
          }
        }
      ]
    },
    {
      "cell_type": "markdown",
      "metadata": {
        "id": "smtUUGF4wuoi",
        "colab_type": "text"
      },
      "source": [
        "Here , we're creating bar graph for car 'body' variable from which you can see below.\n",
        "The bar graph represent the no.of vehicles sold with respect to \"Vehicle Style\"."
      ]
    },
    {
      "cell_type": "code",
      "metadata": {
        "id": "TB2qVF7WeW5O",
        "colab_type": "code",
        "colab": {
          "base_uri": "https://localhost:8080/",
          "height": 625
        },
        "outputId": "5f1e43ac-9946-4e1c-aea5-02bfac5efa55"
      },
      "source": [
        "# Bar chart for car 'body' variable\n",
        "df_new['Vehicle Style'].value_counts().plot.bar(figsize=(12,8))\n",
        "plt.title(\"Cars sold by body\")\n",
        "plt.xlabel(\"Body Type\")\n",
        "plt.ylabel(\"No.of vehicles\")"
      ],
      "execution_count": 140,
      "outputs": [
        {
          "output_type": "execute_result",
          "data": {
            "text/plain": [
              "Text(0, 0.5, 'No.of vehicles')"
            ]
          },
          "metadata": {
            "tags": []
          },
          "execution_count": 140
        },
        {
          "output_type": "display_data",
          "data": {
            "image/png": "[encoded data removed]",
            "text/plain": [
              "<Figure size 864x576 with 1 Axes>"
            ]
          },
          "metadata": {
            "tags": [],
            "needs_background": "light"
          }
        }
      ]
    },
    {
      "cell_type": "markdown",
      "metadata": {
        "id": "kP7HclcU0C1U",
        "colab_type": "text"
      },
      "source": [
        "A countplot is kind of likea histogram or a bar graph for some categorical area. It simply shows the number of occurrences of an item based on a certain type of category.\n",
        "\n",
        "At y-axis , we use \"Vehicle style\" column and on x-axis , there is going to be the count of vehicles that are sold with respectively. \n",
        "The hue is going to be drive mode of the selected \"Vehicle style\"."
      ]
    },
    {
      "cell_type": "code",
      "metadata": {
        "id": "rEpUtp8-hLyx",
        "colab_type": "code",
        "colab": {
          "base_uri": "https://localhost:8080/",
          "height": 312
        },
        "outputId": "7cdeae02-5e7a-4e53-94ad-78a0f32a7c39"
      },
      "source": [
        "# Vehicle Style type and Drive type analysis\n",
        "sns.countplot(y='Vehicle Style',data=df_new,hue='Drive Mode')\n",
        "plt.title(\"Vehicle Type Vs Drive Mode Type\")\n",
        "plt.xlabel(\"Count of vehicles\")\n",
        "plt.ylabel(\"Vehicle Type\")"
      ],
      "execution_count": 141,
      "outputs": [
        {
          "output_type": "execute_result",
          "data": {
            "text/plain": [
              "Text(0, 0.5, 'Vehicle Type')"
            ]
          },
          "metadata": {
            "tags": []
          },
          "execution_count": 141
        },
        {
          "output_type": "display_data",
          "data": {
            "image/png": "[encoded data removed]",
            "text/plain": [
              "<Figure size 432x288 with 1 Axes>"
            ]
          },
          "metadata": {
            "tags": [],
            "needs_background": "light"
          }
        }
      ]
    },
    {
      "cell_type": "markdown",
      "metadata": {
        "id": "PZGKZmIU_uRN",
        "colab_type": "text"
      },
      "source": [
        "Now we create a new column 'Price_group' and assign the value based on car price and then creating bar plot to represent the 'price_group' column with labels '<20K',  '20K - 39K'  ,'40K - 59K'  ,'60K - 79K'  ,'80K - 99K'  ,'>100K'"
      ]
    },
    {
      "cell_type": "code",
      "metadata": {
        "id": "owb3dAUnjADa",
        "colab_type": "code",
        "colab": {}
      },
      "source": [
        "# Create a new column 'Price_group' and assign the value based on car price\n",
        "df_new['price_group']=pd.cut(df_new['Price'],[0,20000,40000,60000,80000,100000,600000],\n",
        "                         labels=['<20K','20K - 39K','40K - 59K','60K - 79K','80K - 99K','>100K'],include_lowest=True)\n",
        "df_new['price_group']=df_new['price_group'].astype(object)"
      ],
      "execution_count": 142,
      "outputs": []
    },
    {
      "cell_type": "code",
      "metadata": {
        "id": "hB4Ch2C6lcVw",
        "colab_type": "code",
        "colab": {
          "base_uri": "https://localhost:8080/",
          "height": 537
        },
        "outputId": "696bc361-d25c-4496-9d8f-4ee733d573ba"
      },
      "source": [
        "(df_new['price_group'].value_counts()/len(df_new)*100).plot.bar(figsize=(10,8))"
      ],
      "execution_count": 143,
      "outputs": [
        {
          "output_type": "execute_result",
          "data": {
            "text/plain": [
              "<matplotlib.axes._subplots.AxesSubplot at 0x7fd1bc520470>"
            ]
          },
          "metadata": {
            "tags": []
          },
          "execution_count": 143
        },
        {
          "output_type": "display_data",
          "data": {
            "image/png": "[encoded data removed]",
            "text/plain": [
              "<Figure size 720x576 with 1 Axes>"
            ]
          },
          "metadata": {
            "tags": [],
            "needs_background": "light"
          }
        }
      ]
    },
    {
      "cell_type": "markdown",
      "metadata": {
        "id": "7tKji1AR0HrP",
        "colab_type": "text"
      },
      "source": [
        "---\n",
        "\n",
        "\n",
        "### 9.0 : build a machine learning model with Price as the target variable.\n",
        "\n",
        "\n"
      ]
    },
    {
      "cell_type": "markdown",
      "metadata": {
        "id": "EJbhkb0KSHcj",
        "colab_type": "text"
      },
      "source": [
        "Splitting the dataset into 80 and 20 ratio , scaling the data and Fitting Multiple Linear Regression to the training set.\n",
        "\n",
        "Multiple linear regression (MLR), also known simply as multiple regression, is a statistical technique that uses several explanatory variables to predict the outcome of a response variable. \n",
        "\n"
      ]
    },
    {
      "cell_type": "code",
      "metadata": {
        "id": "JufSaGkPl7bg",
        "colab_type": "code",
        "colab": {}
      },
      "source": [
        "x=df_new[['Year','HP','Cylinders','MPG-H','MPG-C','Popularity']].values\n",
        "y=df_new['Price'].values"
      ],
      "execution_count": 144,
      "outputs": []
    },
    {
      "cell_type": "code",
      "metadata": {
        "id": "LStx3dFKCUxZ",
        "colab_type": "code",
        "colab": {}
      },
      "source": [
        "# Scaling the data\n",
        "from sklearn.preprocessing import StandardScaler\n",
        "ss=StandardScaler()\n",
        "X=ss.fit_transform(x)\n",
        "Y=ss.fit_transform(y.reshape(-1,1))"
      ],
      "execution_count": 145,
      "outputs": []
    },
    {
      "cell_type": "markdown",
      "metadata": {
        "id": "3GmLRXVjaRJa",
        "colab_type": "text"
      },
      "source": [
        "Splitting the dataset into 80 and 20 ratio for training and test data."
      ]
    },
    {
      "cell_type": "code",
      "metadata": {
        "id": "l45mtCrTD0Sw",
        "colab_type": "code",
        "colab": {}
      },
      "source": [
        "# Splitting the dataset into the training set and test set\n",
        "from sklearn.model_selection import train_test_split\n",
        "X_train,X_test,Y_train,Y_test=train_test_split(X,Y,test_size=0.2,random_state=0)"
      ],
      "execution_count": 146,
      "outputs": []
    },
    {
      "cell_type": "code",
      "metadata": {
        "id": "AJa7H4NbExWg",
        "colab_type": "code",
        "colab": {
          "base_uri": "https://localhost:8080/",
          "height": 33
        },
        "outputId": "68c649a1-32d7-4912-90b3-4ffaf7fe52cb"
      },
      "source": [
        "# Fitting Multiple Linear Regression to the training set\n",
        "from sklearn.linear_model import LinearRegression\n",
        "reg=LinearRegression()\n",
        "reg.fit(X_train,Y_train)"
      ],
      "execution_count": 147,
      "outputs": [
        {
          "output_type": "execute_result",
          "data": {
            "text/plain": [
              "LinearRegression(copy_X=True, fit_intercept=True, n_jobs=None, normalize=False)"
            ]
          },
          "metadata": {
            "tags": []
          },
          "execution_count": 147
        }
      ]
    },
    {
      "cell_type": "code",
      "metadata": {
        "id": "N8TvoppNHJHz",
        "colab_type": "code",
        "colab": {
          "base_uri": "https://localhost:8080/",
          "height": 281
        },
        "outputId": "209093ce-b6ab-4521-c7e1-10c0b355e938"
      },
      "source": [
        "# Predicting the test set results\n",
        "y_pred=reg.predict(X_test)\n",
        "plt.scatter(Y_test,y_pred)"
      ],
      "execution_count": 148,
      "outputs": [
        {
          "output_type": "execute_result",
          "data": {
            "text/plain": [
              "<matplotlib.collections.PathCollection at 0x7fd1ad6d42b0>"
            ]
          },
          "metadata": {
            "tags": []
          },
          "execution_count": 148
        },
        {
          "output_type": "display_data",
          "data": {
            "image/png": "[encoded data removed]",
            "text/plain": [
              "<Figure size 432x288 with 1 Axes>"
            ]
          },
          "metadata": {
            "tags": [],
            "needs_background": "light"
          }
        }
      ]
    },
    {
      "cell_type": "markdown",
      "metadata": {
        "id": "p48EnRmGVDal",
        "colab_type": "text"
      },
      "source": [
        "Seaborn distplot lets you show a histogram with a line on it. This can be shown in all kinds of variations."
      ]
    },
    {
      "cell_type": "code",
      "metadata": {
        "id": "eB11kMRXHp9e",
        "colab_type": "code",
        "colab": {
          "base_uri": "https://localhost:8080/",
          "height": 281
        },
        "outputId": "13c250e1-6040-4688-f8d3-f66663ecf671"
      },
      "source": [
        "sns.distplot((Y_test-y_pred),bins=50)"
      ],
      "execution_count": 149,
      "outputs": [
        {
          "output_type": "execute_result",
          "data": {
            "text/plain": [
              "<matplotlib.axes._subplots.AxesSubplot at 0x7fd1ad421940>"
            ]
          },
          "metadata": {
            "tags": []
          },
          "execution_count": 149
        },
        {
          "output_type": "display_data",
          "data": {
            "image/png": "[encoded data removed]",
            "text/plain": [
              "<Figure size 432x288 with 1 Axes>"
            ]
          },
          "metadata": {
            "tags": [],
            "needs_background": "light"
          }
        }
      ]
    },
    {
      "cell_type": "markdown",
      "metadata": {
        "id": "rwEIWIlXToGl",
        "colab_type": "text"
      },
      "source": [
        "checking the performance of the Linear Regression model over metrics like R square, Root Mean Squared Error, Mean Absolute Error etc."
      ]
    },
    {
      "cell_type": "code",
      "metadata": {
        "id": "YzOwJ6GoH_6j",
        "colab_type": "code",
        "colab": {
          "base_uri": "https://localhost:8080/",
          "height": 67
        },
        "outputId": "6ec6bea7-4a0a-44a2-9744-ad7e93f25ddd"
      },
      "source": [
        "from sklearn import metrics\n",
        "print(\"Mean Absolute Error : \",metrics.mean_absolute_error(Y_test,y_pred))\n",
        "print(\"R2 Score : \",metrics.r2_score(Y_test,y_pred))\n",
        "print(\"Root Mean Squared Error : \",np.sqrt(metrics.mean_squared_error(Y_test,y_pred)))"
      ],
      "execution_count": 150,
      "outputs": [
        {
          "output_type": "stream",
          "text": [
            "Mean Absolute Error :  0.4369272357167589\n",
            "R2 Score :  0.6551590204243145\n",
            "Root Mean Squared Error :  0.5721827741248073\n"
          ],
          "name": "stdout"
        }
      ]
    },
    {
      "cell_type": "markdown",
      "metadata": {
        "id": "6799F8FAKHug",
        "colab_type": "text"
      },
      "source": [
        "---\n",
        "\n",
        "\n",
        "### 10.0 : Try different algorithms and check their performance over metrics like R square, RMSE, MAE etc"
      ]
    },
    {
      "cell_type": "markdown",
      "metadata": {
        "id": "en_KFU5kYFgK",
        "colab_type": "text"
      },
      "source": [
        "Fitting Polynomial Regression to the training set.\n",
        "\n",
        " Polynomial Regression is a form of linear regression in which the relationship between the independent variable x and dependent variable y is modeled as an nth degree polynomial.\n",
        "\n",
        "\n"
      ]
    },
    {
      "cell_type": "code",
      "metadata": {
        "id": "XZGP6UqvInpb",
        "colab_type": "code",
        "colab": {
          "base_uri": "https://localhost:8080/",
          "height": 33
        },
        "outputId": "6dfa3f9c-7868-474b-aa19-209c61be5762"
      },
      "source": [
        "from sklearn.preprocessing import PolynomialFeatures\n",
        "p_reg=PolynomialFeatures(degree=4)\n",
        "X_poly=p_reg.fit_transform(X_train)\n",
        "p_reg.fit(X_poly,Y_train)\n",
        "lin_reg=LinearRegression()\n",
        "lin_reg.fit(X_poly,Y_train)"
      ],
      "execution_count": 151,
      "outputs": [
        {
          "output_type": "execute_result",
          "data": {
            "text/plain": [
              "LinearRegression(copy_X=True, fit_intercept=True, n_jobs=None, normalize=False)"
            ]
          },
          "metadata": {
            "tags": []
          },
          "execution_count": 151
        }
      ]
    },
    {
      "cell_type": "code",
      "metadata": {
        "id": "fSzcd6xUMZU7",
        "colab_type": "code",
        "colab": {
          "base_uri": "https://localhost:8080/",
          "height": 281
        },
        "outputId": "4de8b019-efd3-4e51-d98e-b86eacb44045"
      },
      "source": [
        "# Predicting result with Polynomial Regression\n",
        "y_pred=lin_reg.predict(p_reg.fit_transform(X_test))\n",
        "plt.scatter(Y_test,y_pred)"
      ],
      "execution_count": 152,
      "outputs": [
        {
          "output_type": "execute_result",
          "data": {
            "text/plain": [
              "<matplotlib.collections.PathCollection at 0x7fd1ac2a7978>"
            ]
          },
          "metadata": {
            "tags": []
          },
          "execution_count": 152
        },
        {
          "output_type": "display_data",
          "data": {
            "image/png": "[encoded data removed]",
            "text/plain": [
              "<Figure size 432x288 with 1 Axes>"
            ]
          },
          "metadata": {
            "tags": [],
            "needs_background": "light"
          }
        }
      ]
    },
    {
      "cell_type": "markdown",
      "metadata": {
        "id": "64HV83XnVdgB",
        "colab_type": "text"
      },
      "source": [
        "Seaborn distplot lets you show a histogram with a line on it. This can be shown in all kinds of variations."
      ]
    },
    {
      "cell_type": "code",
      "metadata": {
        "id": "zt9NM0cLNJuf",
        "colab_type": "code",
        "colab": {
          "base_uri": "https://localhost:8080/",
          "height": 284
        },
        "outputId": "0373b7a3-a0c7-4097-d99c-6765c2e5bdd6"
      },
      "source": [
        "sns.distplot((Y_test-y_pred),bins=50)"
      ],
      "execution_count": 153,
      "outputs": [
        {
          "output_type": "execute_result",
          "data": {
            "text/plain": [
              "<matplotlib.axes._subplots.AxesSubplot at 0x7fd1ac267198>"
            ]
          },
          "metadata": {
            "tags": []
          },
          "execution_count": 153
        },
        {
          "output_type": "display_data",
          "data": {
            "image/png": "[encoded data removed]",
            "text/plain": [
              "<Figure size 432x288 with 1 Axes>"
            ]
          },
          "metadata": {
            "tags": [],
            "needs_background": "light"
          }
        }
      ]
    },
    {
      "cell_type": "markdown",
      "metadata": {
        "id": "sxlsJypwUeVl",
        "colab_type": "text"
      },
      "source": [
        "checking the performance of the Polynomial Regression model over metrics like R square, Root Mean Squared Error, Mean Absolute Error etc"
      ]
    },
    {
      "cell_type": "code",
      "metadata": {
        "id": "A_2FL0vuNlND",
        "colab_type": "code",
        "colab": {
          "base_uri": "https://localhost:8080/",
          "height": 67
        },
        "outputId": "aaac5a5a-e8b4-4933-f73d-3e4e0dd82d32"
      },
      "source": [
        "print(\"Mean Absolute Error : \",metrics.mean_absolute_error(Y_test,y_pred))\n",
        "print(\"R2 Score : \",metrics.r2_score(Y_test,y_pred))\n",
        "print(\"Root Mean Squared Error : \",np.sqrt(metrics.mean_squared_error(Y_test,y_pred)))"
      ],
      "execution_count": 154,
      "outputs": [
        {
          "output_type": "stream",
          "text": [
            "Mean Absolute Error :  0.31801203084379503\n",
            "R2 Score :  0.7983863662556726\n",
            "Root Mean Squared Error :  0.4375072886040844\n"
          ],
          "name": "stdout"
        }
      ]
    },
    {
      "cell_type": "markdown",
      "metadata": {
        "id": "QmSBvSnbYr9v",
        "colab_type": "text"
      },
      "source": [
        "---\n",
        "\n",
        "\n",
        "Fitting Support Vector Machine - Regression (SVR) to the training set.\n",
        "\n",
        "Support Vector Machine - Regression (SVR) Support Vector Machine can also be used as a regression method, maintaining all the main features that characterize the algorithm (maximal margin). "
      ]
    },
    {
      "cell_type": "code",
      "metadata": {
        "id": "V1zzVPtdNnpx",
        "colab_type": "code",
        "colab": {
          "base_uri": "https://localhost:8080/",
          "height": 103
        },
        "outputId": "a952b93f-dc69-40eb-97db-bd8d75b62478"
      },
      "source": [
        "# Fitting SVR to the dataset\n",
        "from sklearn.svm import SVR\n",
        "SVR_reg=SVR(kernel='rbf')\n",
        "SVR_reg.fit(X_train,Y_train)"
      ],
      "execution_count": 155,
      "outputs": [
        {
          "output_type": "stream",
          "text": [
            "/usr/local/lib/python3.6/dist-packages/sklearn/utils/validation.py:760: DataConversionWarning: A column-vector y was passed when a 1d array was expected. Please change the shape of y to (n_samples, ), for example using ravel().\n",
            "  y = column_or_1d(y, warn=True)\n"
          ],
          "name": "stderr"
        },
        {
          "output_type": "execute_result",
          "data": {
            "text/plain": [
              "SVR(C=1.0, cache_size=200, coef0=0.0, degree=3, epsilon=0.1, gamma='scale',\n",
              "    kernel='rbf', max_iter=-1, shrinking=True, tol=0.001, verbose=False)"
            ]
          },
          "metadata": {
            "tags": []
          },
          "execution_count": 155
        }
      ]
    },
    {
      "cell_type": "code",
      "metadata": {
        "id": "i7g5Wev5OxLb",
        "colab_type": "code",
        "colab": {
          "base_uri": "https://localhost:8080/",
          "height": 281
        },
        "outputId": "35d85cd4-04f5-4555-c9dc-e1741e4276c9"
      },
      "source": [
        "y_pred=SVR_reg.predict(X_test)\n",
        "plt.scatter(Y_test,y_pred)"
      ],
      "execution_count": 156,
      "outputs": [
        {
          "output_type": "execute_result",
          "data": {
            "text/plain": [
              "<matplotlib.collections.PathCollection at 0x7fd1ac1719e8>"
            ]
          },
          "metadata": {
            "tags": []
          },
          "execution_count": 156
        },
        {
          "output_type": "display_data",
          "data": {
            "image/png": "[encoded data removed]",
            "text/plain": [
              "<Figure size 432x288 with 1 Axes>"
            ]
          },
          "metadata": {
            "tags": [],
            "needs_background": "light"
          }
        }
      ]
    },
    {
      "cell_type": "markdown",
      "metadata": {
        "id": "iM3nEXJZVgKy",
        "colab_type": "text"
      },
      "source": [
        "Seaborn distplot lets you show a histogram with a line on it. This can be shown in all kinds of variations."
      ]
    },
    {
      "cell_type": "code",
      "metadata": {
        "id": "HAEwIbNbPJe4",
        "colab_type": "code",
        "colab": {
          "base_uri": "https://localhost:8080/",
          "height": 281
        },
        "outputId": "568a7212-2c69-4f7a-c238-632ee4549f27"
      },
      "source": [
        "sns.distplot((Y_test-y_pred),bins=50)"
      ],
      "execution_count": 157,
      "outputs": [
        {
          "output_type": "execute_result",
          "data": {
            "text/plain": [
              "<matplotlib.axes._subplots.AxesSubplot at 0x7fd1ac17ff60>"
            ]
          },
          "metadata": {
            "tags": []
          },
          "execution_count": 157
        },
        {
          "output_type": "display_data",
          "data": {
            "image/png": "[encoded data removed]",
            "text/plain": [
              "<Figure size 432x288 with 1 Axes>"
            ]
          },
          "metadata": {
            "tags": [],
            "needs_background": "light"
          }
        }
      ]
    },
    {
      "cell_type": "markdown",
      "metadata": {
        "id": "vALAmF_SUgjQ",
        "colab_type": "text"
      },
      "source": [
        "checking the performance of the SVR model over metrics like R square, Root Mean Squared Error, Mean Absolute Error etc"
      ]
    },
    {
      "cell_type": "code",
      "metadata": {
        "id": "gnoAPNbjPeC9",
        "colab_type": "code",
        "colab": {
          "base_uri": "https://localhost:8080/",
          "height": 67
        },
        "outputId": "c45b5b81-a581-4fac-f4f5-85ed9e08f174"
      },
      "source": [
        "print(\"Mean Absolute Error : \",metrics.mean_absolute_error(Y_test,y_pred))\n",
        "print(\"R2 Score : \",metrics.r2_score(Y_test,y_pred))\n",
        "print(\"Root Mean Squared Error : \",np.sqrt(metrics.mean_squared_error(Y_test,y_pred)))"
      ],
      "execution_count": 158,
      "outputs": [
        {
          "output_type": "stream",
          "text": [
            "Mean Absolute Error :  0.2990436407411567\n",
            "R2 Score :  0.8096775098818738\n",
            "Root Mean Squared Error :  0.4250797334301186\n"
          ],
          "name": "stdout"
        }
      ]
    },
    {
      "cell_type": "markdown",
      "metadata": {
        "id": "rqsKF89XZJ7d",
        "colab_type": "text"
      },
      "source": [
        "---\n",
        "\n",
        "\n",
        "Fitting Random Forest Regression to the training set.\n",
        "\n",
        "Random forests or random decision forests are an ensemble learning method for classification, regression and other tasks that operate by constructing a multitude of decision trees at training time and outputting the class that is the mode of the classes"
      ]
    },
    {
      "cell_type": "code",
      "metadata": {
        "id": "ARKEp8AUPiXU",
        "colab_type": "code",
        "colab": {
          "base_uri": "https://localhost:8080/",
          "height": 187
        },
        "outputId": "97401f0e-21ab-4966-ffa1-3a59ed3f3cea"
      },
      "source": [
        "# Fitting  Random Forest Regression to the dataset\n",
        "from sklearn.ensemble import RandomForestRegressor\n",
        "RF_reg=RandomForestRegressor(n_estimators=300,random_state=0)\n",
        "RF_reg.fit(X_train,Y_train)"
      ],
      "execution_count": 159,
      "outputs": [
        {
          "output_type": "stream",
          "text": [
            "/usr/local/lib/python3.6/dist-packages/ipykernel_launcher.py:4: DataConversionWarning: A column-vector y was passed when a 1d array was expected. Please change the shape of y to (n_samples,), for example using ravel().\n",
            "  after removing the cwd from sys.path.\n"
          ],
          "name": "stderr"
        },
        {
          "output_type": "execute_result",
          "data": {
            "text/plain": [
              "RandomForestRegressor(bootstrap=True, ccp_alpha=0.0, criterion='mse',\n",
              "                      max_depth=None, max_features='auto', max_leaf_nodes=None,\n",
              "                      max_samples=None, min_impurity_decrease=0.0,\n",
              "                      min_impurity_split=None, min_samples_leaf=1,\n",
              "                      min_samples_split=2, min_weight_fraction_leaf=0.0,\n",
              "                      n_estimators=300, n_jobs=None, oob_score=False,\n",
              "                      random_state=0, verbose=0, warm_start=False)"
            ]
          },
          "metadata": {
            "tags": []
          },
          "execution_count": 159
        }
      ]
    },
    {
      "cell_type": "code",
      "metadata": {
        "id": "IbvkRI7hQT5j",
        "colab_type": "code",
        "colab": {
          "base_uri": "https://localhost:8080/",
          "height": 281
        },
        "outputId": "72964005-ddb0-4d4c-9a6d-813749080ebf"
      },
      "source": [
        "y_pred=RF_reg.predict(X_test)\n",
        "plt.scatter(Y_test,y_pred)"
      ],
      "execution_count": 160,
      "outputs": [
        {
          "output_type": "execute_result",
          "data": {
            "text/plain": [
              "<matplotlib.collections.PathCollection at 0x7fd1ac056dd8>"
            ]
          },
          "metadata": {
            "tags": []
          },
          "execution_count": 160
        },
        {
          "output_type": "display_data",
          "data": {
            "image/png": "[encoded data removed]",
            "text/plain": [
              "<Figure size 432x288 with 1 Axes>"
            ]
          },
          "metadata": {
            "tags": [],
            "needs_background": "light"
          }
        }
      ]
    },
    {
      "cell_type": "markdown",
      "metadata": {
        "id": "xvdzhSMDVizk",
        "colab_type": "text"
      },
      "source": [
        "Seaborn distplot lets you show a histogram with a line on it. This can be shown in all kinds of variations."
      ]
    },
    {
      "cell_type": "code",
      "metadata": {
        "id": "8OJZq2yjQkuV",
        "colab_type": "code",
        "colab": {
          "base_uri": "https://localhost:8080/",
          "height": 281
        },
        "outputId": "ef2ee937-b8bd-4541-b4df-d27a23f10738"
      },
      "source": [
        "sns.distplot((Y_test-y_pred),bins=50)"
      ],
      "execution_count": 161,
      "outputs": [
        {
          "output_type": "execute_result",
          "data": {
            "text/plain": [
              "<matplotlib.axes._subplots.AxesSubplot at 0x7fd1ac187dd8>"
            ]
          },
          "metadata": {
            "tags": []
          },
          "execution_count": 161
        },
        {
          "output_type": "display_data",
          "data": {
            "image/png": "[encoded data removed]",
            "text/plain": [
              "<Figure size 432x288 with 1 Axes>"
            ]
          },
          "metadata": {
            "tags": [],
            "needs_background": "light"
          }
        }
      ]
    },
    {
      "cell_type": "markdown",
      "metadata": {
        "id": "k4Ou_mZQUicO",
        "colab_type": "text"
      },
      "source": [
        "checking the performance of the Random Forest Regression model over metrics like R square, Root Mean Squared Error, Mean Absolute Error etc"
      ]
    },
    {
      "cell_type": "code",
      "metadata": {
        "id": "ACZyXKmdQwpm",
        "colab_type": "code",
        "colab": {
          "base_uri": "https://localhost:8080/",
          "height": 67
        },
        "outputId": "b23da383-bf5a-4ec9-d235-800c05146d8f"
      },
      "source": [
        "\n",
        "print(\"Mean Absolute Error : \",metrics.mean_absolute_error(Y_test,y_pred))\n",
        "print(\"R2 Score : \",metrics.r2_score(Y_test,y_pred))\n",
        "print(\"Root Mean Squared Error : \",np.sqrt(metrics.mean_squared_error(Y_test,y_pred)))"
      ],
      "execution_count": 162,
      "outputs": [
        {
          "output_type": "stream",
          "text": [
            "Mean Absolute Error :  0.18016240350940912\n",
            "R2 Score :  0.9321284741051651\n",
            "Root Mean Squared Error :  0.25384531388691844\n"
          ],
          "name": "stdout"
        }
      ]
    },
    {
      "cell_type": "markdown",
      "metadata": {
        "id": "1hy2xGbVbI2N",
        "colab_type": "text"
      },
      "source": [
        "---\n",
        "### Summary"
      ]
    },
    {
      "cell_type": "markdown",
      "metadata": {
        "id": "vvS67b-aV3Gi",
        "colab_type": "text"
      },
      "source": [
        "From all the other ML models , Random Forest Model is the best model for this dataset . \n",
        "\n",
        "Because , the R2 score of Random forest is **R2=0.9321** which is way more than other models like .\n",
        "A Random Forest's nonlinear nature can give it a leg up over linear algorithms, making it a great option."
      ]
    }
  ]
}